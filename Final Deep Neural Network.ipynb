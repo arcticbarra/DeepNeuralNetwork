{
 "cells": [
  {
   "cell_type": "code",
   "execution_count": 125,
   "metadata": {},
   "outputs": [
    {
     "name": "stdout",
     "output_type": "stream",
     "text": [
      "The autoreload extension is already loaded. To reload it, use:\n",
      "  %reload_ext autoreload\n"
     ]
    }
   ],
   "source": [
    "import time\n",
    "import numpy as np\n",
    "import h5py\n",
    "import matplotlib.pyplot as plt\n",
    "import scipy\n",
    "from PIL import Image\n",
    "from scipy import ndimage\n",
    "from dnn_app_utils_v3 import *\n",
    "\n",
    "%matplotlib inline\n",
    "plt.rcParams['figure.figsize'] = (5.0, 4.0) # set default size of plots\n",
    "plt.rcParams['image.interpolation'] = 'nearest'\n",
    "plt.rcParams['image.cmap'] = 'gray'\n",
    "\n",
    "%load_ext autoreload\n",
    "%autoreload 2\n",
    "\n",
    "np.random.seed(1)"
   ]
  },
  {
   "cell_type": "code",
   "execution_count": 128,
   "metadata": {},
   "outputs": [],
   "source": [
    "def load_hotdog_data():\n",
    "    train_dataset = h5py.File('datasets/train_hotdogvsnothotdog.hdf5', \"r\")\n",
    "    train_set_x_orig = np.array(train_dataset[\"train_img\"][:]) # your train set features\n",
    "    train_set_y_orig = np.array(train_dataset[\"train_labels\"][:]) # your train set labels\n",
    "\n",
    "    test_dataset = h5py.File('datasets/test_hotdogvsnothotdog.hdf5', \"r\")\n",
    "    test_set_x_orig = np.array(test_dataset[\"test_img\"][:int(train_x_orig.shape[0]*.2)]) # your test set features\n",
    "    test_set_y_orig = np.array(test_dataset[\"test_labels\"][:int(train_x_orig.shape[0]*.2)]) # your test set labels\n",
    "\n",
    "    classes = np.array([b'hotdog', b'not_hotdog']) # the list of classes\n",
    "    \n",
    "    train_set_y_orig = train_set_y_orig.reshape((1, train_set_y_orig.shape[0]))\n",
    "    test_set_y_orig = test_set_y_orig.reshape((1, test_set_y_orig.shape[0]))\n",
    "    \n",
    "    return train_set_x_orig, train_set_y_orig, test_set_x_orig, test_set_y_orig, classes"
   ]
  },
  {
   "cell_type": "code",
   "execution_count": 129,
   "metadata": {},
   "outputs": [],
   "source": [
    "train_x_orig, train_y, test_x_orig, test_y, classes = load_hotdog_data()"
   ]
  },
  {
   "cell_type": "code",
   "execution_count": 130,
   "metadata": {},
   "outputs": [
    {
     "name": "stdout",
     "output_type": "stream",
     "text": [
      "y = 1. It's a not_hotdog picture.\n"
     ]
    },
    {
     "data": {
      "image/png": "[encoded data removed]",
      "text/plain": [
       "<Figure size 360x288 with 1 Axes>"
      ]
     },
     "metadata": {
      "needs_background": "light"
     },
     "output_type": "display_data"
    }
   ],
   "source": [
    "# Example of a picture\n",
    "index = 150\n",
    "plt.imshow(train_x_orig[index])\n",
    "print (\"y = \" + str(train_y[0,index]) + \". It's a \" + classes[train_y[0,index]].decode(\"utf-8\") +  \" picture.\")"
   ]
  },
  {
   "cell_type": "code",
   "execution_count": 131,
   "metadata": {},
   "outputs": [
    {
     "name": "stdout",
     "output_type": "stream",
     "text": [
      "Number of training examples: 498\n",
      "Number of testing examples: 99\n",
      "Each image is of size: (64, 64, 3)\n",
      "train_x_orig shape: (498, 64, 64, 3)\n",
      "train_y shape: (1, 498)\n",
      "test_x_orig shape: (99, 64, 64, 3)\n",
      "test_y shape: (1, 99)\n"
     ]
    }
   ],
   "source": [
    "# Explore your dataset \n",
    "m_train = train_x_orig.shape[0]\n",
    "num_px = train_x_orig.shape[1]\n",
    "m_test = test_x_orig.shape[0]\n",
    "\n",
    "print (\"Number of training examples: \" + str(m_train))\n",
    "print (\"Number of testing examples: \" + str(m_test))\n",
    "print (\"Each image is of size: (\" + str(num_px) + \", \" + str(num_px) + \", 3)\")\n",
    "print (\"train_x_orig shape: \" + str(train_x_orig.shape))\n",
    "print (\"train_y shape: \" + str(train_y.shape))\n",
    "print (\"test_x_orig shape: \" + str(test_x_orig.shape))\n",
    "print (\"test_y shape: \" + str(test_y.shape))"
   ]
  },
  {
   "cell_type": "code",
   "execution_count": 132,
   "metadata": {},
   "outputs": [
    {
     "name": "stdout",
     "output_type": "stream",
     "text": [
      "train_x's shape: (12288, 498)\n",
      "test_x's shape: (12288, 99)\n"
     ]
    }
   ],
   "source": [
    "# Reshape the training and test examples \n",
    "train_x_flatten = train_x_orig.reshape(train_x_orig.shape[0], -1).T   # The \"-1\" makes reshape flatten the remaining dimensions\n",
    "test_x_flatten = test_x_orig.reshape(test_x_orig.shape[0], -1).T\n",
    "\n",
    "# Standardize data to have feature values between 0 and 1.\n",
    "train_x = train_x_flatten/255.\n",
    "test_x = test_x_flatten/255.\n",
    "\n",
    "print (\"train_x's shape: \" + str(train_x.shape))\n",
    "print (\"test_x's shape: \" + str(test_x.shape))"
   ]
  },
  {
   "cell_type": "code",
   "execution_count": 133,
   "metadata": {},
   "outputs": [],
   "source": [
    "### CONSTANTS DEFINING THE MODEL ####\n",
    "n_x = 12288     # num_px * num_px * 3\n",
    "n_h = 7\n",
    "n_y = 1\n",
    "layers_dims = (n_x, n_h, n_y)"
   ]
  },
  {
   "cell_type": "code",
   "execution_count": 135,
   "metadata": {},
   "outputs": [],
   "source": [
    "def two_layer_model(X, Y, layers_dims, learning_rate = 0.0075, num_iterations = 3000, print_cost=False):\n",
    "    \"\"\"\n",
    "    Implements a two-layer neural network: LINEAR->RELU->LINEAR->SIGMOID.\n",
    "    \n",
    "    Arguments:\n",
    "    X -- input data, of shape (n_x, number of examples)\n",
    "    Y -- true \"label\" vector (containing 0 if cat, 1 if non-cat), of shape (1, number of examples)\n",
    "    layers_dims -- dimensions of the layers (n_x, n_h, n_y)\n",
    "    num_iterations -- number of iterations of the optimization loop\n",
    "    learning_rate -- learning rate of the gradient descent update rule\n",
    "    print_cost -- If set to True, this will print the cost every 100 iterations \n",
    "    \n",
    "    Returns:\n",
    "    parameters -- a dictionary containing W1, W2, b1, and b2\n",
    "    \"\"\"\n",
    "    \n",
    "    np.random.seed(1)\n",
    "    grads = {}\n",
    "    costs = []                              # to keep track of the cost\n",
    "    m = X.shape[1]                           # number of examples\n",
    "    (n_x, n_h, n_y) = layers_dims\n",
    "    \n",
    "    # Initialize parameters dictionary, by calling one of the functions you'd previously implemented\n",
    "    ### START CODE HERE ### (≈ 1 line of code)\n",
    "    parameters = initialize_parameters(n_x, n_h, n_y)\n",
    "    ### END CODE HERE ###\n",
    "    \n",
    "    # Get W1, b1, W2 and b2 from the dictionary parameters.\n",
    "    W1 = parameters[\"W1\"]\n",
    "    b1 = parameters[\"b1\"]\n",
    "    W2 = parameters[\"W2\"]\n",
    "    b2 = parameters[\"b2\"]\n",
    "    \n",
    "    # Loop (gradient descent)\n",
    "\n",
    "    for i in range(0, num_iterations):\n",
    "\n",
    "        # Forward propagation: LINEAR -> RELU -> LINEAR -> SIGMOID. Inputs: \"X, W1, b1, W2, b2\". Output: \"A1, cache1, A2, cache2\".\n",
    "        ### START CODE HERE ### (≈ 2 lines of code)\n",
    "        A1, cache1 = linear_activation_forward(X, W1, b1, 'relu')\n",
    "        A2, cache2 = linear_activation_forward(A1, W2, b2, 'sigmoid')\n",
    "        ### END CODE HERE ###\n",
    "        \n",
    "        # Compute cost\n",
    "        ### START CODE HERE ### (≈ 1 line of code)\n",
    "        cost = compute_cost(A2, Y)\n",
    "        ### END CODE HERE ###\n",
    "        \n",
    "        # Initializing backward propagation\n",
    "        dA2 = - (np.divide(Y, A2) - np.divide(1 - Y, 1 - A2))\n",
    "        \n",
    "        # Backward propagation. Inputs: \"dA2, cache2, cache1\". Outputs: \"dA1, dW2, db2; also dA0 (not used), dW1, db1\".\n",
    "        ### START CODE HERE ### (≈ 2 lines of code)\n",
    "        dA1, dW2, db2 = linear_activation_backward(dA2, cache2, 'sigmoid')\n",
    "        dA0, dW1, db1 = linear_activation_backward(dA1, cache1, 'relu')\n",
    "        ### END CODE HERE ###\n",
    "        \n",
    "        # Set grads['dWl'] to dW1, grads['db1'] to db1, grads['dW2'] to dW2, grads['db2'] to db2\n",
    "        grads['dW1'] = dW1\n",
    "        grads['db1'] = db1\n",
    "        grads['dW2'] = dW2\n",
    "        grads['db2'] = db2\n",
    "        \n",
    "        # Update parameters.\n",
    "        ### START CODE HERE ### (approx. 1 line of code)\n",
    "        parameters = update_parameters(parameters, grads, learning_rate)\n",
    "        ### END CODE HERE ###\n",
    "\n",
    "        # Retrieve W1, b1, W2, b2 from parameters\n",
    "        W1 = parameters[\"W1\"]\n",
    "        b1 = parameters[\"b1\"]\n",
    "        W2 = parameters[\"W2\"]\n",
    "        b2 = parameters[\"b2\"]\n",
    "        \n",
    "        # Print the cost every 100 training example\n",
    "        if print_cost and i % 100 == 0:\n",
    "            print(\"Cost after iteration {}: {}\".format(i, np.squeeze(cost)))\n",
    "        if print_cost and i % 100 == 0:\n",
    "            costs.append(cost)\n",
    "       \n",
    "    # plot the cost\n",
    "\n",
    "    plt.plot(np.squeeze(costs))\n",
    "    plt.ylabel('cost')\n",
    "    plt.xlabel('iterations (per tens)')\n",
    "    plt.title(\"Learning rate =\" + str(learning_rate))\n",
    "    plt.show()\n",
    "    \n",
    "    return parameters"
   ]
  },
  {
   "cell_type": "code",
   "execution_count": 136,
   "metadata": {},
   "outputs": [
    {
     "name": "stdout",
     "output_type": "stream",
     "text": [
      "Cost after iteration 0: 0.6933255818037506\n",
      "Cost after iteration 100: 0.6927350547678366\n",
      "Cost after iteration 200: 0.6915767117223209\n",
      "Cost after iteration 300: 0.6887110591023251\n",
      "Cost after iteration 400: 0.6813104068495474\n",
      "Cost after iteration 500: 0.6651643753425256\n",
      "Cost after iteration 600: 0.639053538621653\n",
      "Cost after iteration 700: 0.6052813631485597\n",
      "Cost after iteration 800: 0.5651940492658352\n",
      "Cost after iteration 900: 0.5181333986038537\n",
      "Cost after iteration 1000: 0.48057975184276475\n",
      "Cost after iteration 1100: 0.49368847426434637\n",
      "Cost after iteration 1200: 0.476851302675201\n",
      "Cost after iteration 1300: 0.4508511271947589\n",
      "Cost after iteration 1400: 0.4368094555111357\n",
      "Cost after iteration 1500: 0.40760633700219634\n",
      "Cost after iteration 1600: 0.39063666450123025\n",
      "Cost after iteration 1700: 0.3744898770923014\n",
      "Cost after iteration 1800: 0.3639748880516045\n",
      "Cost after iteration 1900: 0.32809956525862877\n",
      "Cost after iteration 2000: 0.28970840623527\n",
      "Cost after iteration 2100: 0.29949068410848856\n",
      "Cost after iteration 2200: 0.18310607308367488\n",
      "Cost after iteration 2300: 0.17380375298210252\n",
      "Cost after iteration 2400: 0.44518318011246\n"
     ]
    },
    {
     "data": {
      "image/png": "[encoded data removed]",
      "text/plain": [
       "<Figure size 360x288 with 1 Axes>"
      ]
     },
     "metadata": {
      "needs_background": "light"
     },
     "output_type": "display_data"
    }
   ],
   "source": [
    "parameters = two_layer_model(train_x, train_y, layers_dims = (n_x, n_h, n_y), num_iterations = 2500, print_cost=True)"
   ]
  },
  {
   "cell_type": "code",
   "execution_count": 137,
   "metadata": {},
   "outputs": [
    {
     "name": "stdout",
     "output_type": "stream",
     "text": [
      "Accuracy: 0.9759036144578315\n"
     ]
    }
   ],
   "source": [
    "predictions_train = predict(train_x, train_y, parameters)"
   ]
  },
  {
   "cell_type": "code",
   "execution_count": 138,
   "metadata": {},
   "outputs": [
    {
     "name": "stdout",
     "output_type": "stream",
     "text": [
      "Accuracy: 0.5252525252525252\n"
     ]
    }
   ],
   "source": [
    "predictions_test = predict(test_x, test_y, parameters)"
   ]
  },
  {
   "cell_type": "code",
   "execution_count": 139,
   "metadata": {},
   "outputs": [],
   "source": [
    "def L_layer_model(X, Y, layers_dims, learning_rate = 0.0075, num_iterations = 3000, print_cost=False):#lr was 0.009\n",
    "    \"\"\"\n",
    "    Implements a L-layer neural network: [LINEAR->RELU]*(L-1)->LINEAR->SIGMOID.\n",
    "    \n",
    "    Arguments:\n",
    "    X -- data, numpy array of shape (number of examples, num_px * num_px * 3)\n",
    "    Y -- true \"label\" vector (containing 0 if cat, 1 if non-cat), of shape (1, number of examples)\n",
    "    layers_dims -- list containing the input size and each layer size, of length (number of layers + 1).\n",
    "    learning_rate -- learning rate of the gradient descent update rule\n",
    "    num_iterations -- number of iterations of the optimization loop\n",
    "    print_cost -- if True, it prints the cost every 100 steps\n",
    "    \n",
    "    Returns:\n",
    "    parameters -- parameters learnt by the model. They can then be used to predict.\n",
    "    \"\"\"\n",
    "\n",
    "    np.random.seed(1)\n",
    "    costs = []                         # keep track of cost\n",
    "    \n",
    "    # Parameters initialization. (≈ 1 line of code)\n",
    "    ### START CODE HERE ###\n",
    "    parameters = initialize_parameters_deep(layers_dims)\n",
    "    ### END CODE HERE ###\n",
    "    \n",
    "    # Loop (gradient descent)\n",
    "    for i in range(0, num_iterations):\n",
    "\n",
    "        # Forward propagation: [LINEAR -> RELU]*(L-1) -> LINEAR -> SIGMOID.\n",
    "        ### START CODE HERE ### (≈ 1 line of code)\n",
    "        AL, caches = L_model_forward(X, parameters)\n",
    "        ### END CODE HERE ###\n",
    "        \n",
    "        # Compute cost.\n",
    "        ### START CODE HERE ### (≈ 1 line of code)\n",
    "        cost = compute_cost(AL, Y)\n",
    "        ### END CODE HERE ###\n",
    "    \n",
    "        # Backward propagation.\n",
    "        ### START CODE HERE ### (≈ 1 line of code)\n",
    "        grads = L_model_backward(AL, Y, caches)\n",
    "        ### END CODE HERE ###\n",
    " \n",
    "        # Update parameters.\n",
    "        ### START CODE HERE ### (≈ 1 line of code)\n",
    "        parameters = update_parameters(parameters, grads, learning_rate)\n",
    "        ### END CODE HERE ###\n",
    "                \n",
    "        # Print the cost every 100 training example\n",
    "        if print_cost and i % 100 == 0:\n",
    "            print (\"Cost after iteration %i: %f\" %(i, cost))\n",
    "        if print_cost and i % 100 == 0:\n",
    "            costs.append(cost)\n",
    "            \n",
    "    # plot the cost\n",
    "    plt.plot(np.squeeze(costs))\n",
    "    plt.ylabel('cost')\n",
    "    plt.xlabel('iterations (per tens)')\n",
    "    plt.title(\"Learning rate =\" + str(learning_rate))\n",
    "    plt.show()\n",
    "    \n",
    "    return parameters"
   ]
  },
  {
   "cell_type": "code",
   "execution_count": 141,
   "metadata": {
    "scrolled": true
   },
   "outputs": [
    {
     "name": "stdout",
     "output_type": "stream",
     "text": [
      "Cost after iteration 0: 0.702720\n",
      "Cost after iteration 100: 0.589887\n",
      "Cost after iteration 200: 0.554277\n",
      "Cost after iteration 300: 0.510532\n",
      "Cost after iteration 400: 0.468995\n",
      "Cost after iteration 500: 0.427195\n",
      "Cost after iteration 600: 0.367426\n",
      "Cost after iteration 700: 0.388414\n",
      "Cost after iteration 800: 0.165131\n",
      "Cost after iteration 900: 0.127009\n",
      "Cost after iteration 1000: 0.106240\n",
      "Cost after iteration 1100: 0.054210\n",
      "Cost after iteration 1200: 0.034353\n",
      "Cost after iteration 1300: 0.024454\n",
      "Cost after iteration 1400: 0.018586\n",
      "Cost after iteration 1500: 0.014714\n",
      "Cost after iteration 1600: 0.012003\n",
      "Cost after iteration 1700: 0.010015\n"
     ]
    },
    {
     "data": {
      "image/png": "[encoded data removed]",
      "text/plain": [
       "<Figure size 360x288 with 1 Axes>"
      ]
     },
     "metadata": {
      "needs_background": "light"
     },
     "output_type": "display_data"
    }
   ],
   "source": [
    "layers_dims = [12288, 1024, 64, 32, 1] #  4-layer model\n",
    "parameters = L_layer_model(train_x, train_y, layers_dims, num_iterations = 1800, print_cost = True, learning_rate = 0.008)"
   ]
  },
  {
   "cell_type": "code",
   "execution_count": 142,
   "metadata": {},
   "outputs": [
    {
     "name": "stdout",
     "output_type": "stream",
     "text": [
      "Accuracy: 1.0\n"
     ]
    }
   ],
   "source": [
    "pred_train = predict(train_x, train_y, parameters)"
   ]
  },
  {
   "cell_type": "code",
   "execution_count": 143,
   "metadata": {},
   "outputs": [
    {
     "name": "stdout",
     "output_type": "stream",
     "text": [
      "Accuracy: 0.494949494949495\n"
     ]
    }
   ],
   "source": [
    "pred_test = predict(test_x, test_y, parameters)"
   ]
  },
  {
   "cell_type": "code",
   "execution_count": 154,
   "metadata": {},
   "outputs": [
    {
     "name": "stdout",
     "output_type": "stream",
     "text": [
      "Cost after iteration 0: 0.694892\n",
      "Cost after iteration 100: 0.602805\n",
      "Cost after iteration 200: 0.562383\n",
      "Cost after iteration 300: 0.529074\n",
      "Cost after iteration 400: 0.496841\n",
      "Cost after iteration 500: 0.462485\n",
      "Cost after iteration 600: 0.436347\n",
      "Cost after iteration 700: 0.404274\n",
      "Cost after iteration 800: 0.366368\n",
      "Cost after iteration 900: 0.331402\n",
      "Cost after iteration 1000: 0.311733\n",
      "Cost after iteration 1100: 0.267348\n",
      "Cost after iteration 1200: 0.291967\n",
      "Cost after iteration 1300: 0.118343\n",
      "Cost after iteration 1400: 0.369054\n"
     ]
    },
    {
     "data": {
      "image/png": "[encoded data removed]",
      "text/plain": [
       "<Figure size 360x288 with 1 Axes>"
      ]
     },
     "metadata": {
      "needs_background": "light"
     },
     "output_type": "display_data"
    }
   ],
   "source": [
    "layers_dims = [12288, 20, 5, 1] #  4-layer model\n",
    "#modify the learning rate and the number of iterations\n",
    "parameters = L_layer_model(train_x, train_y, layers_dims, learning_rate = 0.008, num_iterations = 1500, print_cost = True)"
   ]
  },
  {
   "cell_type": "code",
   "execution_count": 155,
   "metadata": {},
   "outputs": [
    {
     "name": "stdout",
     "output_type": "stream",
     "text": [
      "Accuracy: 0.9919678714859439\n"
     ]
    }
   ],
   "source": [
    "pred_train = predict(train_x, train_y, parameters)"
   ]
  },
  {
   "cell_type": "code",
   "execution_count": 156,
   "metadata": {},
   "outputs": [
    {
     "name": "stdout",
     "output_type": "stream",
     "text": [
      "Accuracy: 0.5555555555555555\n"
     ]
    }
   ],
   "source": [
    "pred_test = predict(test_x, test_y, parameters)"
   ]
  },
  {
   "cell_type": "code",
   "execution_count": 161,
   "metadata": {},
   "outputs": [
    {
     "name": "stdout",
     "output_type": "stream",
     "text": [
      "Cost after iteration 0: 0.692963\n",
      "Cost after iteration 100: 0.626080\n",
      "Cost after iteration 200: 0.583495\n",
      "Cost after iteration 300: 0.566827\n",
      "Cost after iteration 400: 0.469754\n",
      "Cost after iteration 500: 0.428040\n",
      "Cost after iteration 600: 0.607891\n",
      "Cost after iteration 700: 0.471844\n",
      "Cost after iteration 800: 0.438524\n",
      "Cost after iteration 900: 0.420530\n",
      "Cost after iteration 1000: 0.472956\n",
      "Cost after iteration 1100: 0.244620\n",
      "Cost after iteration 1200: 0.180602\n",
      "Cost after iteration 1300: 0.145305\n",
      "Cost after iteration 1400: 0.221947\n"
     ]
    },
    {
     "data": {
      "image/png": "[encoded data removed]",
      "text/plain": [
       "<Figure size 360x288 with 1 Axes>"
      ]
     },
     "metadata": {
      "needs_background": "light"
     },
     "output_type": "display_data"
    }
   ],
   "source": [
    "#modify the number of neurons in each layer\n",
    "layers_dims = [12288, 20, 10, 7, 1] #  4-layer model\n",
    "parameters = L_layer_model(train_x, train_y, layers_dims, learning_rate = 0.008, num_iterations = 1500, print_cost = True)"
   ]
  },
  {
   "cell_type": "code",
   "execution_count": 162,
   "metadata": {},
   "outputs": [
    {
     "name": "stdout",
     "output_type": "stream",
     "text": [
      "Accuracy: 0.9618473895582331\n"
     ]
    }
   ],
   "source": [
    "pred_train = predict(train_x, train_y, parameters)"
   ]
  },
  {
   "cell_type": "code",
   "execution_count": 163,
   "metadata": {
    "scrolled": true
   },
   "outputs": [
    {
     "name": "stdout",
     "output_type": "stream",
     "text": [
      "Accuracy: 0.5555555555555556\n"
     ]
    }
   ],
   "source": [
    "pred_test = predict(test_x, test_y, parameters)"
   ]
  },
  {
   "cell_type": "code",
   "execution_count": 27,
   "metadata": {
    "scrolled": false
   },
   "outputs": [
    {
     "name": "stdout",
     "output_type": "stream",
     "text": [
      "Cost after iteration 0: 0.6928545563802507\n",
      "Cost after iteration 100: 0.6913045745036844\n",
      "Cost after iteration 200: 0.6882640616840717\n",
      "Cost after iteration 300: 0.6811418933699721\n",
      "Cost after iteration 400: 0.6668677848706976\n",
      "Cost after iteration 500: 0.641413591957915\n",
      "Cost after iteration 600: 0.6095673829111553\n",
      "Cost after iteration 700: 0.574127210000233\n",
      "Cost after iteration 800: 0.5345344053143972\n",
      "Cost after iteration 900: 0.653205322305108\n",
      "Cost after iteration 1000: 0.5430910895917902\n",
      "Cost after iteration 1100: 0.5282208456774723\n",
      "Cost after iteration 1200: 0.5142989309843371\n",
      "Cost after iteration 1300: 0.5013441708989455\n",
      "Cost after iteration 1400: 0.4882687421894153\n",
      "Cost after iteration 1500: 0.47629794707949547\n",
      "Cost after iteration 1600: 0.4645705240239884\n",
      "Cost after iteration 1700: 0.4528589891725067\n",
      "Cost after iteration 1800: 0.4422839148931822\n",
      "Cost after iteration 1900: 0.43175264519634954\n",
      "Cost after iteration 2000: 0.42141039828216664\n",
      "Cost after iteration 2100: 0.41162371770332307\n",
      "Cost after iteration 2200: 0.4018867916925984\n",
      "Cost after iteration 2300: 0.3926225813113572\n",
      "Cost after iteration 2400: 0.3855107949287261\n",
      "Cost after iteration 2500: 0.3740990463434267\n",
      "Cost after iteration 2600: 0.3646301277441491\n",
      "Cost after iteration 2700: 0.35630028778062556\n",
      "Cost after iteration 2800: 0.3471254044745739\n",
      "Cost after iteration 2900: 0.3384466856592408\n",
      "Cost after iteration 3000: 0.32872619181352974\n",
      "Cost after iteration 3100: 0.32615356273555474\n",
      "Cost after iteration 3200: 0.3095640766447797\n",
      "Cost after iteration 3300: 0.17697935037537973\n",
      "Cost after iteration 3400: 0.15475889064526638\n",
      "Cost after iteration 3500: 0.1637342375478169\n",
      "Cost after iteration 3600: 0.134634195966065\n",
      "Cost after iteration 3700: 0.12392188763221454\n",
      "Cost after iteration 3800: 0.12013957106019016\n",
      "Cost after iteration 3900: 0.11367114466592462\n"
     ]
    },
    {
     "data": {
      "image/png": "[encoded data removed]",
      "text/plain": [
       "<Figure size 432x288 with 1 Axes>"
      ]
     },
     "metadata": {
      "needs_background": "light"
     },
     "output_type": "display_data"
    }
   ],
   "source": [
    "#go back to the 3 layers model\n",
    "parameters = two_layer_model(train_x, train_y, layers_dims = (n_x, n_h, n_y), learning_rate = 0.009, \n",
    "                             num_iterations = 4000, print_cost=True)\n",
    "\n",
    "\n"
   ]
  },
  {
   "cell_type": "code",
   "execution_count": 28,
   "metadata": {},
   "outputs": [
    {
     "name": "stdout",
     "output_type": "stream",
     "text": [
      "Accuracy: 0.9859437751004018\n"
     ]
    }
   ],
   "source": [
    "pred_train = predict(train_x, train_y, parameters)"
   ]
  },
  {
   "cell_type": "code",
   "execution_count": 29,
   "metadata": {},
   "outputs": [
    {
     "name": "stdout",
     "output_type": "stream",
     "text": [
      "Accuracy: 0.52\n"
     ]
    }
   ],
   "source": [
    "pred_test = predict(test_x, test_y, parameters)"
   ]
  },
  {
   "cell_type": "code",
   "execution_count": 30,
   "metadata": {},
   "outputs": [
    {
     "name": "stdout",
     "output_type": "stream",
     "text": [
      "Cost after iteration 0: 0.693115\n",
      "Cost after iteration 100: 0.687780\n",
      "Cost after iteration 200: 0.679638\n",
      "Cost after iteration 300: 0.664651\n",
      "Cost after iteration 400: 0.646350\n",
      "Cost after iteration 500: 0.631486\n",
      "Cost after iteration 600: 0.616851\n",
      "Cost after iteration 700: 0.596658\n",
      "Cost after iteration 800: 0.578516\n",
      "Cost after iteration 900: 0.556990\n",
      "Cost after iteration 1000: 0.542623\n",
      "Cost after iteration 1100: 0.522619\n",
      "Cost after iteration 1200: 0.491435\n",
      "Cost after iteration 1300: 0.494353\n",
      "Cost after iteration 1400: 0.473133\n",
      "Cost after iteration 1500: 0.463403\n",
      "Cost after iteration 1600: 0.458245\n",
      "Cost after iteration 1700: 0.514530\n",
      "Cost after iteration 1800: 0.412711\n",
      "Cost after iteration 1900: 0.349704\n",
      "Cost after iteration 2000: 0.420667\n",
      "Cost after iteration 2100: 0.200507\n",
      "Cost after iteration 2200: 0.206889\n",
      "Cost after iteration 2300: 0.283325\n",
      "Cost after iteration 2400: 0.168960\n",
      "Cost after iteration 2500: 0.133438\n",
      "Cost after iteration 2600: 0.625432\n",
      "Cost after iteration 2700: 0.063056\n",
      "Cost after iteration 2800: 0.041661\n",
      "Cost after iteration 2900: 0.033983\n"
     ]
    },
    {
     "data": {
      "image/png": "[encoded data removed]",
      "text/plain": [
       "<Figure size 432x288 with 1 Axes>"
      ]
     },
     "metadata": {
      "needs_background": "light"
     },
     "output_type": "display_data"
    }
   ],
   "source": [
    "layers_dims = [16875, 20, 10, 7, 5, 3, 1] #  6-layer model\n",
    "parameters = L_layer_model(train_x, train_y, layers_dims, learning_rate = 0.008, num_iterations = 3000, print_cost = True)"
   ]
  },
  {
   "cell_type": "code",
   "execution_count": 31,
   "metadata": {},
   "outputs": [
    {
     "name": "stdout",
     "output_type": "stream",
     "text": [
      "Accuracy: 0.993975903614458\n"
     ]
    }
   ],
   "source": [
    "pred_train = predict(train_x, train_y, parameters)"
   ]
  },
  {
   "cell_type": "code",
   "execution_count": 32,
   "metadata": {},
   "outputs": [
    {
     "name": "stdout",
     "output_type": "stream",
     "text": [
      "Accuracy: 0.524\n"
     ]
    }
   ],
   "source": [
    "pred_test = predict(test_x, test_y, parameters)"
   ]
  },
  {
   "cell_type": "code",
   "execution_count": 33,
   "metadata": {},
   "outputs": [
    {
     "name": "stdout",
     "output_type": "stream",
     "text": [
      "Cost after iteration 0: 0.693115\n",
      "Cost after iteration 100: 0.690167\n",
      "Cost after iteration 200: 0.686204\n",
      "Cost after iteration 300: 0.681121\n",
      "Cost after iteration 400: 0.673510\n",
      "Cost after iteration 500: 0.661889\n",
      "Cost after iteration 600: 0.645430\n",
      "Cost after iteration 700: 0.631229\n",
      "Cost after iteration 800: 0.618244\n",
      "Cost after iteration 900: 0.603220\n",
      "Cost after iteration 1000: 0.586207\n",
      "Cost after iteration 1100: 0.575332\n",
      "Cost after iteration 1200: 0.553385\n",
      "Cost after iteration 1300: 0.532726\n",
      "Cost after iteration 1400: 0.518854\n",
      "Cost after iteration 1500: 0.510342\n",
      "Cost after iteration 1600: 0.493902\n",
      "Cost after iteration 1700: 0.470918\n",
      "Cost after iteration 1800: 0.473437\n",
      "Cost after iteration 1900: 0.429028\n",
      "Cost after iteration 2000: 0.460632\n",
      "Cost after iteration 2100: 0.415219\n",
      "Cost after iteration 2200: 0.370248\n",
      "Cost after iteration 2300: 0.398449\n",
      "Cost after iteration 2400: 0.278259\n"
     ]
    },
    {
     "data": {
      "image/png": "[encoded data removed]",
      "text/plain": [
       "<Figure size 432x288 with 1 Axes>"
      ]
     },
     "metadata": {
      "needs_background": "light"
     },
     "output_type": "display_data"
    }
   ],
   "source": [
    "layers_dims = [16875, 20, 10, 7, 5, 3, 1] #  6-layer model\n",
    "#modify learning_rate and num_iterations\n",
    "parameters = L_layer_model(train_x, train_y, layers_dims, learning_rate = 0.005, num_iterations = 2500, print_cost = True)"
   ]
  },
  {
   "cell_type": "code",
   "execution_count": 34,
   "metadata": {},
   "outputs": [
    {
     "name": "stdout",
     "output_type": "stream",
     "text": [
      "Accuracy: 0.9036144578313254\n"
     ]
    }
   ],
   "source": [
    "pred_train = predict(train_x, train_y, parameters)"
   ]
  },
  {
   "cell_type": "code",
   "execution_count": 35,
   "metadata": {},
   "outputs": [
    {
     "name": "stdout",
     "output_type": "stream",
     "text": [
      "Accuracy: 0.542\n"
     ]
    }
   ],
   "source": [
    "pred_test = predict(test_x, test_y, parameters)"
   ]
  },
  {
   "cell_type": "code",
   "execution_count": 36,
   "metadata": {},
   "outputs": [
    {
     "name": "stdout",
     "output_type": "stream",
     "text": [
      "Cost after iteration 0: 0.692356\n",
      "Cost after iteration 100: 0.686468\n",
      "Cost after iteration 200: 0.681468\n",
      "Cost after iteration 300: 0.676155\n",
      "Cost after iteration 400: 0.670140\n",
      "Cost after iteration 500: 0.663066\n",
      "Cost after iteration 600: 0.654545\n",
      "Cost after iteration 700: 0.644010\n",
      "Cost after iteration 800: 0.630730\n",
      "Cost after iteration 900: 0.613745\n",
      "Cost after iteration 1000: 0.591790\n",
      "Cost after iteration 1100: 0.580274\n",
      "Cost after iteration 1200: 0.571574\n",
      "Cost after iteration 1300: 0.550629\n",
      "Cost after iteration 1400: 0.533074\n",
      "Cost after iteration 1500: 0.512103\n",
      "Cost after iteration 1600: 0.490028\n",
      "Cost after iteration 1700: 0.470801\n",
      "Cost after iteration 1800: 0.443459\n",
      "Cost after iteration 1900: 0.426483\n",
      "Cost after iteration 2000: 0.416854\n",
      "Cost after iteration 2100: 0.399588\n",
      "Cost after iteration 2200: 0.360603\n",
      "Cost after iteration 2300: 0.333006\n",
      "Cost after iteration 2400: 0.327402\n"
     ]
    },
    {
     "data": {
      "image/png": "[encoded data removed]",
      "text/plain": [
       "<Figure size 432x288 with 1 Axes>"
      ]
     },
     "metadata": {
      "needs_background": "light"
     },
     "output_type": "display_data"
    }
   ],
   "source": [
    "#modify number of neurons in each layer\n",
    "layers_dims = [16875, 20, 12, 12, 5, 3, 1] #  6-layer model\n",
    "parameters = L_layer_model(train_x, train_y, layers_dims, learning_rate = 0.005, num_iterations = 2500, print_cost = True)"
   ]
  },
  {
   "cell_type": "code",
   "execution_count": 37,
   "metadata": {},
   "outputs": [
    {
     "name": "stdout",
     "output_type": "stream",
     "text": [
      "Accuracy: 0.9116465863453818\n"
     ]
    }
   ],
   "source": [
    "pred_train = predict(train_x, train_y, parameters)"
   ]
  },
  {
   "cell_type": "code",
   "execution_count": 38,
   "metadata": {},
   "outputs": [
    {
     "name": "stdout",
     "output_type": "stream",
     "text": [
      "Accuracy: 0.524\n"
     ]
    }
   ],
   "source": [
    "pred_test = predict(test_x, test_y, parameters)"
   ]
  },
  {
   "cell_type": "code",
   "execution_count": 61,
   "metadata": {},
   "outputs": [
    {
     "name": "stdout",
     "output_type": "stream",
     "text": [
      "Cost after iteration 0: 0.692356\n",
      "Cost after iteration 100: 0.688991\n",
      "Cost after iteration 200: 0.686465\n",
      "Cost after iteration 300: 0.683944\n",
      "Cost after iteration 400: 0.681458\n",
      "Cost after iteration 500: 0.678872\n",
      "Cost after iteration 600: 0.676138\n",
      "Cost after iteration 700: 0.673223\n",
      "Cost after iteration 800: 0.670118\n",
      "Cost after iteration 900: 0.666728\n",
      "Cost after iteration 1000: 0.663035\n",
      "Cost after iteration 1100: 0.658981\n",
      "Cost after iteration 1200: 0.654501\n",
      "Cost after iteration 1300: 0.649536\n",
      "Cost after iteration 1400: 0.643946\n",
      "Cost after iteration 1500: 0.637676\n",
      "Cost after iteration 1600: 0.630596\n",
      "Cost after iteration 1700: 0.622526\n",
      "Cost after iteration 1800: 0.613269\n",
      "Cost after iteration 1900: 0.602789\n",
      "Cost after iteration 2000: 0.590914\n",
      "Cost after iteration 2100: 0.577379\n",
      "Cost after iteration 2200: 0.561838\n",
      "Cost after iteration 2300: 0.544724\n",
      "Cost after iteration 2400: 0.529032\n",
      "Cost after iteration 2500: 0.516163\n",
      "Cost after iteration 2600: 0.508236\n",
      "Cost after iteration 2700: 0.498164\n",
      "Cost after iteration 2800: 0.483299\n",
      "Cost after iteration 2900: 0.467378\n",
      "Cost after iteration 3000: 0.457754\n",
      "Cost after iteration 3100: 0.443261\n",
      "Cost after iteration 3200: 0.430625\n",
      "Cost after iteration 3300: 0.419499\n",
      "Cost after iteration 3400: 0.404531\n",
      "Cost after iteration 3500: 0.394507\n",
      "Cost after iteration 3600: 0.378301\n",
      "Cost after iteration 3700: 0.338950\n",
      "Cost after iteration 3800: 0.337645\n",
      "Cost after iteration 3900: 0.336099\n",
      "Cost after iteration 4000: 0.294242\n",
      "Cost after iteration 4100: 0.279612\n",
      "Cost after iteration 4200: 0.512105\n",
      "Cost after iteration 4300: 0.280217\n",
      "Cost after iteration 4400: 0.297130\n"
     ]
    },
    {
     "data": {
      "image/png": "[encoded data removed]",
      "text/plain": [
       "<Figure size 432x288 with 1 Axes>"
      ]
     },
     "metadata": {
      "needs_background": "light"
     },
     "output_type": "display_data"
    }
   ],
   "source": [
    "#modify number of neurons in each layer\n",
    "layers_dims = [16875, 20, 12, 12, 5, 3, 1] #  6-layer model\n",
    "parameters = L_layer_model(train_x, train_y, layers_dims, learning_rate = 0.0025, num_iterations = 4500, print_cost = True)"
   ]
  },
  {
   "cell_type": "code",
   "execution_count": 62,
   "metadata": {},
   "outputs": [
    {
     "name": "stdout",
     "output_type": "stream",
     "text": [
      "Accuracy: 0.9678714859437753\n"
     ]
    }
   ],
   "source": [
    "pred_train = predict(train_x, train_y, parameters)"
   ]
  },
  {
   "cell_type": "code",
   "execution_count": 63,
   "metadata": {},
   "outputs": [
    {
     "name": "stdout",
     "output_type": "stream",
     "text": [
      "Accuracy: 0.53\n"
     ]
    }
   ],
   "source": [
    "pred_test = predict(test_x, test_y, parameters)"
   ]
  },
  {
   "cell_type": "code",
   "execution_count": 67,
   "metadata": {},
   "outputs": [
    {
     "name": "stdout",
     "output_type": "stream",
     "text": [
      "Cost after iteration 0: 0.692945\n",
      "Cost after iteration 100: 0.692499\n",
      "Cost after iteration 200: 0.692186\n",
      "Cost after iteration 300: 0.691943\n",
      "Cost after iteration 400: 0.691722\n",
      "Cost after iteration 500: 0.691504\n",
      "Cost after iteration 600: 0.691268\n",
      "Cost after iteration 700: 0.690988\n",
      "Cost after iteration 800: 0.690710\n",
      "Cost after iteration 900: 0.690446\n",
      "Cost after iteration 1000: 0.690176\n",
      "Cost after iteration 1100: 0.689894\n",
      "Cost after iteration 1200: 0.689588\n",
      "Cost after iteration 1300: 0.689261\n",
      "Cost after iteration 1400: 0.688916\n",
      "Cost after iteration 1500: 0.688517\n",
      "Cost after iteration 1600: 0.687861\n",
      "Cost after iteration 1700: 0.687306\n",
      "Cost after iteration 1800: 0.686737\n",
      "Cost after iteration 1900: 0.686142\n",
      "Cost after iteration 2000: 0.685507\n",
      "Cost after iteration 2100: 0.684828\n",
      "Cost after iteration 2200: 0.684109\n",
      "Cost after iteration 2300: 0.683344\n",
      "Cost after iteration 2400: 0.682519\n",
      "Cost after iteration 2500: 0.681646\n",
      "Cost after iteration 2600: 0.680713\n",
      "Cost after iteration 2700: 0.679707\n",
      "Cost after iteration 2800: 0.678636\n",
      "Cost after iteration 2900: 0.677399\n",
      "Cost after iteration 3000: 0.676087\n",
      "Cost after iteration 3100: 0.674675\n",
      "Cost after iteration 3200: 0.673198\n",
      "Cost after iteration 3300: 0.671601\n",
      "Cost after iteration 3400: 0.669906\n",
      "Cost after iteration 3500: 0.668077\n",
      "Cost after iteration 3600: 0.666010\n",
      "Cost after iteration 3700: 0.663444\n",
      "Cost after iteration 3800: 0.659354\n",
      "Cost after iteration 3900: 0.655681\n"
     ]
    },
    {
     "data": {
      "image/png": "[encoded data removed]",
      "text/plain": [
       "<Figure size 432x288 with 1 Axes>"
      ]
     },
     "metadata": {
      "needs_background": "light"
     },
     "output_type": "display_data"
    }
   ],
   "source": [
    "#modify number of neurons in each layer\n",
    "layers_dims = [16875, 20, 15, 12, 7, 5, 3, 1] #  7-layer model\n",
    "parameters = L_layer_model(train_x, train_y, layers_dims, learning_rate = 0.002, num_iterations = 4000, print_cost = True)"
   ]
  },
  {
   "cell_type": "code",
   "execution_count": 68,
   "metadata": {},
   "outputs": [
    {
     "name": "stdout",
     "output_type": "stream",
     "text": [
      "Accuracy: 0.6686746987951808\n"
     ]
    }
   ],
   "source": [
    "pred_train = predict(train_x, train_y, parameters)"
   ]
  },
  {
   "cell_type": "code",
   "execution_count": 69,
   "metadata": {},
   "outputs": [
    {
     "name": "stdout",
     "output_type": "stream",
     "text": [
      "Accuracy: 0.526\n"
     ]
    }
   ],
   "source": [
    "pred_test = predict(test_x, test_y, parameters)"
   ]
  },
  {
   "cell_type": "code",
   "execution_count": null,
   "metadata": {},
   "outputs": [],
   "source": []
  }
 ],
 "metadata": {
  "kernelspec": {
   "display_name": "Python 3",
   "language": "python",
   "name": "python3"
  },
  "language_info": {
   "codemirror_mode": {
    "name": "ipython",
    "version": 3
   },
   "file_extension": ".py",
   "mimetype": "text/x-python",
   "name": "python",
   "nbconvert_exporter": "python",
   "pygments_lexer": "ipython3",
   "version": "3.7.4"
  }
 },
 "nbformat": 4,
 "nbformat_minor": 2
}
